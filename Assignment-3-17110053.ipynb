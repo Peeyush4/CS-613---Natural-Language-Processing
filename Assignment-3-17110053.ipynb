{
  "nbformat": 4,
  "nbformat_minor": 0,
  "metadata": {
    "colab": {
      "name": "Assignment-3",
      "provenance": [],
      "collapsed_sections": [],
      "machine_shape": "hm"
    },
    "kernelspec": {
      "name": "python3",
      "display_name": "Python 3"
    }
  },
  "cells": [
    {
      "cell_type": "code",
      "metadata": {
        "id": "3sMe9O7Aj0Xj",
        "colab_type": "code",
        "outputId": "6f04f836-9cc0-44b8-9d2c-880519db0c4d",
        "colab": {
          "base_uri": "https://localhost:8080/",
          "height": 84
        }
      },
      "source": [
        "!unzip 'nlp assignment 3.zip'"
      ],
      "execution_count": 1,
      "outputs": [
        {
          "output_type": "stream",
          "text": [
            "Archive:  nlp assignment 3.zip\n",
            "   creating: nlp assignment 3/\n",
            "  inflating: nlp assignment 3/test.txt  \n",
            "  inflating: nlp assignment 3/train.txt  \n"
          ],
          "name": "stdout"
        }
      ]
    },
    {
      "cell_type": "code",
      "metadata": {
        "id": "5kDT3dI_pqPU",
        "colab_type": "code",
        "outputId": "c0316ab0-7f08-41f9-e3db-d8899dba5988",
        "colab": {
          "base_uri": "https://localhost:8080/",
          "height": 33
        }
      },
      "source": [
        "cd 'nlp assignment 3'"
      ],
      "execution_count": 2,
      "outputs": [
        {
          "output_type": "stream",
          "text": [
            "/content/nlp assignment 3\n"
          ],
          "name": "stdout"
        }
      ]
    },
    {
      "cell_type": "code",
      "metadata": {
        "id": "bv5iGEvzkR9G",
        "colab_type": "code",
        "colab": {}
      },
      "source": [
        "f = open(\"train.txt\",\"r\")\n",
        "uncleaned = f.readlines()\n",
        "train_data=[]\n",
        "\n",
        "i=0\n",
        "while(i<len(uncleaned)):\n",
        "  x=uncleaned[i]\n",
        "  l = x.split()\n",
        "  if(l!=[]):\n",
        "    if(l[0]=='meta'):\n",
        "      d=dict()\n",
        "      d['id']=int(l[1])\n",
        "      d['sentiment']=str(l[2])\n",
        "      d['tokens']=[]\n",
        "      d['lang_id']=[]\n",
        "    elif(len(l)==2):\n",
        "      d['tokens'].append(l[0].lower())\n",
        "      d['lang_id'].append(l[1])\n",
        "  else:\n",
        "    train_data.append(d)\n",
        "  i=i+1\n",
        "\n",
        "train_labels = []\n",
        "for i in range(len(train_data)):\n",
        "  s = train_data[i]['sentiment']\n",
        "  train_labels.append(s)"
      ],
      "execution_count": 0,
      "outputs": []
    },
    {
      "cell_type": "code",
      "metadata": {
        "id": "Vdh-e8pt5LiF",
        "colab_type": "code",
        "colab": {}
      },
      "source": [
        "f = open(\"test.txt\",\"r\")\n",
        "uncleaned = f.readlines()\n",
        "test_data=[]\n",
        "\n",
        "i=0\n",
        "while(i<len(uncleaned)):\n",
        "  x=uncleaned[i]\n",
        "  l = x.split()\n",
        "  if(l!=[]):\n",
        "    if(l[0]=='meta'):\n",
        "      d=dict()\n",
        "      d['id']=int(l[1])\n",
        "      d['sentiment']=str(l[2])\n",
        "      d['tokens']=[]\n",
        "      d['lang_id']=[]\n",
        "    elif(len(l)==2):\n",
        "      d['tokens'].append(l[0].lower())\n",
        "      d['lang_id'].append(l[1])\n",
        "  else:\n",
        "    test_data.append(d)\n",
        "  i=i+1\n",
        "\n",
        "test_labels = []\n",
        "for i in range(len(test_data)):\n",
        "  s = test_data[i]['sentiment']\n",
        "  test_labels.append(s)"
      ],
      "execution_count": 0,
      "outputs": []
    },
    {
      "cell_type": "code",
      "metadata": {
        "id": "4WDbhGEmtx56",
        "colab_type": "code",
        "outputId": "f3e20085-f80b-4e0b-8e84-966ec95978c8",
        "colab": {
          "base_uri": "https://localhost:8080/",
          "height": 50
        }
      },
      "source": [
        "import nltk\n",
        "nltk.download('punkt')\n",
        "from nltk.util import ngrams"
      ],
      "execution_count": 35,
      "outputs": [
        {
          "output_type": "stream",
          "text": [
            "[nltk_data] Downloading package punkt to /root/nltk_data...\n",
            "[nltk_data]   Package punkt is already up-to-date!\n"
          ],
          "name": "stdout"
        }
      ]
    },
    {
      "cell_type": "code",
      "metadata": {
        "id": "9OHRKFYc1VYx",
        "colab_type": "code",
        "colab": {}
      },
      "source": [
        "max_chars = 25\n",
        "vector_size = 128"
      ],
      "execution_count": 0,
      "outputs": []
    },
    {
      "cell_type": "code",
      "metadata": {
        "id": "d2a7bRI2hntd",
        "colab_type": "code",
        "colab": {}
      },
      "source": [
        "train_data_1 = []\n",
        "for i in range(len(train_data)):\n",
        "  t = train_data[i]['tokens']\n",
        "  l = train_data[i]['lang_id']\n",
        "  t_filter = [t[x] for x in range(len(t)) if l[x]!='O']\n",
        "  t_trigram = [' '.join(t_filter[i:i+3]) for i in range(len(t_filter)-2)]\n",
        "  #t_trigram += [' '.join(t_filter[i:i+4]) for i in range(len(t_filter)-3)]\n",
        "  #t_trigram += [' '.join(t_filter[i:i+5]) for i in range(len(t_filter)-4)]\n",
        "  #t_trigram += [' '.join(t_filter[i:i+6]) for i in range(len(t_filter)-5)]\n",
        "  train_data_1.append(t_trigram)"
      ],
      "execution_count": 0,
      "outputs": []
    },
    {
      "cell_type": "code",
      "metadata": {
        "id": "cBflJl0G-IWA",
        "colab_type": "code",
        "colab": {}
      },
      "source": [
        "test_data_1 = []\n",
        "for i in range(len(test_data)):\n",
        "  t = test_data[i]['tokens']\n",
        "  l = test_data[i]['lang_id']\n",
        "  t_filter = [t[x] for x in range(len(t)) if l[x]!='O']\n",
        "  t_trigram = [' '.join(t_filter[i:i+3]) for i in range(len(t_filter)-2)]\n",
        "  #t_trigram += [' '.join(t_filter[i:i+4]) for i in range(len(t_filter)-3)]\n",
        "  #t_trigram += [' '.join(t_filter[i:i+5]) for i in range(len(t_filter)-4)]\n",
        "  #t_trigram += [' '.join(t_filter[i:i+6]) for i in range(len(t_filter)-5)]\n",
        "  test_data_1.append(t_trigram)"
      ],
      "execution_count": 0,
      "outputs": []
    },
    {
      "cell_type": "code",
      "metadata": {
        "id": "AZWGGqQ-XYmo",
        "colab_type": "code",
        "colab": {}
      },
      "source": [
        "train_labels_1 = []\n",
        "for i in range(len(train_labels)):\n",
        "  s = train_labels[i]\n",
        "  if(s=='negative'):\n",
        "    train_labels_1.append([1, 0, 0])\n",
        "  elif(s=='positive'):\n",
        "    train_labels_1.append([0, 0, 1])\n",
        "  else:\n",
        "    train_labels_1.append([0, 1, 0])"
      ],
      "execution_count": 0,
      "outputs": []
    },
    {
      "cell_type": "code",
      "metadata": {
        "id": "h6GjFZOIXJT7",
        "colab_type": "code",
        "colab": {}
      },
      "source": [
        "test_labels_1 = []\n",
        "for i in range(len(test_labels)):\n",
        "  s = test_labels[i]\n",
        "  if(s=='negative'):\n",
        "    test_labels_1.append([1, 0, 0])\n",
        "  elif(s=='positive'):\n",
        "    test_labels_1.append([0, 0, 1])\n",
        "  else:\n",
        "    test_labels_1.append([0, 1, 0])"
      ],
      "execution_count": 0,
      "outputs": []
    },
    {
      "cell_type": "code",
      "metadata": {
        "id": "M9_WyjS7t-4Y",
        "colab_type": "code",
        "colab": {}
      },
      "source": [
        "import gensim\n",
        "import numpy as np"
      ],
      "execution_count": 0,
      "outputs": []
    },
    {
      "cell_type": "code",
      "metadata": {
        "id": "5tpGL6gnDOkY",
        "colab_type": "code",
        "colab": {}
      },
      "source": [
        "y_train_1 = np.array(train_labels_1)\n",
        "#y_test_1 = np.array(test_labels_1)"
      ],
      "execution_count": 0,
      "outputs": []
    },
    {
      "cell_type": "code",
      "metadata": {
        "id": "cAxuQmuQgE6a",
        "colab_type": "code",
        "colab": {}
      },
      "source": [
        "word_model_1 = gensim.models.Word2Vec(train_data_1+test_data_1, size=vector_size, seed=1011, min_count=1, iter=100)"
      ],
      "execution_count": 0,
      "outputs": []
    },
    {
      "cell_type": "code",
      "metadata": {
        "id": "cvBsQZYGAMli",
        "colab_type": "code",
        "colab": {}
      },
      "source": [
        "word_vectors = word_model_1.wv"
      ],
      "execution_count": 0,
      "outputs": []
    },
    {
      "cell_type": "code",
      "metadata": {
        "id": "Y2Q9KyiI-3MG",
        "colab_type": "code",
        "colab": {}
      },
      "source": [
        "X_train = np.zeros((len(train_data_1), max_chars, vector_size))\n",
        "X_test = np.zeros((len(test_data_1), max_chars, vector_size))"
      ],
      "execution_count": 0,
      "outputs": []
    },
    {
      "cell_type": "code",
      "metadata": {
        "id": "LwZbkxRE-3P7",
        "colab_type": "code",
        "colab": {}
      },
      "source": [
        "for i in range(len(train_data_1)):\n",
        "  t = train_data_1[i][:max_chars]\n",
        "  for j in range(len(t)):\n",
        "    X_train[i, j, :] = word_vectors[t[j]]\n",
        "\n",
        "for i in range(len(test_data_1)):\n",
        "  t = test_data_1[i][:max_chars]\n",
        "  for j in range(len(t)):\n",
        "    X_test[i, j, :] = word_vectors[t[j]]"
      ],
      "execution_count": 0,
      "outputs": []
    },
    {
      "cell_type": "code",
      "metadata": {
        "id": "_iUJh-GIHM1X",
        "colab_type": "code",
        "outputId": "c4ad8143-31ef-45d7-ba80-34c6a7842e48",
        "colab": {
          "base_uri": "https://localhost:8080/",
          "height": 33
        }
      },
      "source": [
        "X_train.shape"
      ],
      "execution_count": 47,
      "outputs": [
        {
          "output_type": "execute_result",
          "data": {
            "text/plain": [
              "(15131, 25, 128)"
            ]
          },
          "metadata": {
            "tags": []
          },
          "execution_count": 47
        }
      ]
    },
    {
      "cell_type": "code",
      "metadata": {
        "id": "vQISOuox-3TD",
        "colab_type": "code",
        "colab": {}
      },
      "source": [
        "from keras.layers.recurrent import LSTM\n",
        "#from keras.layers.embeddings import Embedding\n",
        "from keras.layers import Bidirectional, Dense, Activation, SimpleRNN, Dropout\n",
        "from keras.models import Sequential"
      ],
      "execution_count": 0,
      "outputs": []
    },
    {
      "cell_type": "code",
      "metadata": {
        "id": "Zee22Jf-xPCJ",
        "colab_type": "code",
        "colab": {}
      },
      "source": [
        "model = Sequential()\n",
        "model.add(LSTM(units = 128, activation='relu', input_shape=(X_train.shape[1], X_train.shape[2]), return_sequences=False))\n",
        "model.add(Dense(16, activation='relu'))\n",
        "model.add(Dropout(0.10))\n",
        "model.add(Dense(3, activation='softmax'))\n",
        "model.compile(loss='categorical_crossentropy',optimizer='adam', metrics=['accuracy'])"
      ],
      "execution_count": 0,
      "outputs": []
    },
    {
      "cell_type": "code",
      "metadata": {
        "id": "m3G36c7H-3WC",
        "colab_type": "code",
        "colab": {}
      },
      "source": [
        "batch_size = 32\n",
        "nb_epochs = 10"
      ],
      "execution_count": 0,
      "outputs": []
    },
    {
      "cell_type": "code",
      "metadata": {
        "id": "LwPfkbvYw3jf",
        "colab_type": "code",
        "colab": {}
      },
      "source": [
        "# Total 20 epochs"
      ],
      "execution_count": 0,
      "outputs": []
    },
    {
      "cell_type": "code",
      "metadata": {
        "id": "ZRCtT8aty26_",
        "colab_type": "code",
        "outputId": "6f9c61a3-81f3-43f1-a81d-b6088964d61c",
        "colab": {
          "base_uri": "https://localhost:8080/",
          "height": 368
        }
      },
      "source": [
        "model.fit(X_train, y_train_1,\n",
        "          batch_size=batch_size,\n",
        "          epochs=nb_epochs)"
      ],
      "execution_count": 52,
      "outputs": [
        {
          "output_type": "stream",
          "text": [
            "Epoch 1/10\n",
            "15131/15131 [==============================] - 15s 998us/step - loss: 1.0721 - acc: 0.4103\n",
            "Epoch 2/10\n",
            "15131/15131 [==============================] - 14s 923us/step - loss: 1.0482 - acc: 0.4315\n",
            "Epoch 3/10\n",
            "15131/15131 [==============================] - 14s 921us/step - loss: 1.0388 - acc: 0.4478\n",
            "Epoch 4/10\n",
            "15131/15131 [==============================] - 14s 901us/step - loss: 1.0324 - acc: 0.4521\n",
            "Epoch 5/10\n",
            "15131/15131 [==============================] - 14s 922us/step - loss: 1.0282 - acc: 0.4555\n",
            "Epoch 6/10\n",
            "15131/15131 [==============================] - 14s 919us/step - loss: 1.0251 - acc: 0.4548\n",
            "Epoch 7/10\n",
            "15131/15131 [==============================] - 14s 915us/step - loss: 1.0220 - acc: 0.4565\n",
            "Epoch 8/10\n",
            "15131/15131 [==============================] - 14s 945us/step - loss: 1.0192 - acc: 0.4568\n",
            "Epoch 9/10\n",
            "15131/15131 [==============================] - 14s 918us/step - loss: 1.0210 - acc: 0.4612\n",
            "Epoch 10/10\n",
            "15131/15131 [==============================] - 14s 911us/step - loss: 1.0163 - acc: 0.4585\n"
          ],
          "name": "stdout"
        },
        {
          "output_type": "execute_result",
          "data": {
            "text/plain": [
              "<keras.callbacks.History at 0x7efca8852048>"
            ]
          },
          "metadata": {
            "tags": []
          },
          "execution_count": 52
        }
      ]
    },
    {
      "cell_type": "code",
      "metadata": {
        "id": "x8MY5vvpImBY",
        "colab_type": "code",
        "outputId": "96297ba6-c748-40eb-8a75-dc5392e56a98",
        "colab": {
          "base_uri": "https://localhost:8080/",
          "height": 368
        }
      },
      "source": [
        "model.fit(X_train, y_train_1,\n",
        "          batch_size=batch_size,\n",
        "          epochs=nb_epochs)"
      ],
      "execution_count": 53,
      "outputs": [
        {
          "output_type": "stream",
          "text": [
            "Epoch 1/10\n",
            "15131/15131 [==============================] - 14s 912us/step - loss: 1.0151 - acc: 0.4637\n",
            "Epoch 2/10\n",
            "15131/15131 [==============================] - 14s 902us/step - loss: 1.0136 - acc: 0.4634\n",
            "Epoch 3/10\n",
            "15131/15131 [==============================] - 14s 912us/step - loss: 1.0111 - acc: 0.4661\n",
            "Epoch 4/10\n",
            "15131/15131 [==============================] - 14s 900us/step - loss: 1.0205 - acc: 0.4630\n",
            "Epoch 5/10\n",
            "15131/15131 [==============================] - 14s 919us/step - loss: 1.0103 - acc: 0.4631\n",
            "Epoch 6/10\n",
            "15131/15131 [==============================] - 14s 912us/step - loss: 1.0102 - acc: 0.4676\n",
            "Epoch 7/10\n",
            "15131/15131 [==============================] - 14s 912us/step - loss: 1.0096 - acc: 0.4689\n",
            "Epoch 8/10\n",
            "15131/15131 [==============================] - 14s 915us/step - loss: 1.0047 - acc: 0.4687\n",
            "Epoch 9/10\n",
            "15131/15131 [==============================] - 14s 905us/step - loss: 1.0271 - acc: 0.4565\n",
            "Epoch 10/10\n",
            "15131/15131 [==============================] - 14s 944us/step - loss: 1.0945 - acc: 0.4088\n"
          ],
          "name": "stdout"
        },
        {
          "output_type": "execute_result",
          "data": {
            "text/plain": [
              "<keras.callbacks.History at 0x7efca8940cc0>"
            ]
          },
          "metadata": {
            "tags": []
          },
          "execution_count": 53
        }
      ]
    },
    {
      "cell_type": "code",
      "metadata": {
        "id": "mnokOjnsyhkQ",
        "colab_type": "code",
        "colab": {}
      },
      "source": [
        "y_pred = model.predict(X_test)"
      ],
      "execution_count": 0,
      "outputs": []
    },
    {
      "cell_type": "code",
      "metadata": {
        "id": "g0Kn2tQY0FQ3",
        "colab_type": "code",
        "colab": {
          "base_uri": "https://localhost:8080/",
          "height": 134
        },
        "outputId": "76d7dad3-32f5-4d7f-e443-cfc1cdde2f2b"
      },
      "source": [
        "print(y_pred)"
      ],
      "execution_count": 55,
      "outputs": [
        {
          "output_type": "stream",
          "text": [
            "[[0.33288592 0.35646078 0.31065327]\n",
            " [0.33288592 0.35646078 0.31065327]\n",
            " [0.33396086 0.3571131  0.30892602]\n",
            " ...\n",
            " [0.3601683  0.37202573 0.2678059 ]\n",
            " [0.33288592 0.35646078 0.31065327]\n",
            " [0.33288592 0.35646078 0.31065327]]\n"
          ],
          "name": "stdout"
        }
      ]
    },
    {
      "cell_type": "code",
      "metadata": {
        "id": "9tkVB_Vwb4Gt",
        "colab_type": "code",
        "colab": {}
      },
      "source": [
        "y_pred_labels = []\n",
        "for i in range(len(y_pred)):\n",
        "  x = y_pred[i].argmax()\n",
        "  if(x==0):\n",
        "    y_pred_labels.append('negative')\n",
        "  elif(x==1):\n",
        "    y_pred_labels.append('neutral')\n",
        "  else:\n",
        "    y_pred_labels.append('positive')"
      ],
      "execution_count": 0,
      "outputs": []
    },
    {
      "cell_type": "code",
      "metadata": {
        "id": "XMScxqetcp4F",
        "colab_type": "code",
        "colab": {}
      },
      "source": [
        "y_actual_labels = test_labels.copy()"
      ],
      "execution_count": 0,
      "outputs": []
    },
    {
      "cell_type": "code",
      "metadata": {
        "id": "cNXdfiuCcy6b",
        "colab_type": "code",
        "colab": {
          "base_uri": "https://localhost:8080/",
          "height": 33
        },
        "outputId": "d3ae603f-62d7-489a-c3e9-e396386feadb"
      },
      "source": [
        "count = 0\n",
        "for i in range(len(y_pred_labels)):\n",
        "  if(y_pred_labels[i]==y_actual_labels[i]):\n",
        "    count=count+1\n",
        "Accuracy = count/len(y_actual_labels)\n",
        "print(Accuracy)"
      ],
      "execution_count": 58,
      "outputs": [
        {
          "output_type": "stream",
          "text": [
            "0.4039593365436062\n"
          ],
          "name": "stdout"
        }
      ]
    },
    {
      "cell_type": "code",
      "metadata": {
        "id": "zfhYdogYdBqD",
        "colab_type": "code",
        "colab": {
          "base_uri": "https://localhost:8080/",
          "height": 33
        },
        "outputId": "a836afc6-cb74-4e6b-c075-d7b0512554ae"
      },
      "source": [
        "from sklearn.metrics import f1_score\n",
        "F1 = f1_score(y_actual_labels, y_pred_labels, average=None)\n",
        "print(F1)"
      ],
      "execution_count": 59,
      "outputs": [
        {
          "output_type": "stream",
          "text": [
            "[0.11538462 0.57189277 0.04      ]\n"
          ],
          "name": "stdout"
        }
      ]
    },
    {
      "cell_type": "code",
      "metadata": {
        "id": "3iD982O7WyCb",
        "colab_type": "code",
        "colab": {
          "base_uri": "https://localhost:8080/",
          "height": 33
        },
        "outputId": "bb55f9d2-f540-42d6-da03-b4c502e0fa0f"
      },
      "source": [
        "from sklearn.metrics import recall_score\n",
        "Recall = recall_score(y_actual_labels, y_pred_labels, average=None)\n",
        "print(Recall)"
      ],
      "execution_count": 60,
      "outputs": [
        {
          "output_type": "stream",
          "text": [
            "[0.07317073 0.933687   0.02061856]\n"
          ],
          "name": "stdout"
        }
      ]
    },
    {
      "cell_type": "code",
      "metadata": {
        "id": "txI5C3DPXI3w",
        "colab_type": "code",
        "colab": {
          "base_uri": "https://localhost:8080/",
          "height": 33
        },
        "outputId": "ca482827-bb9f-403d-c4df-9d5dd4751e54"
      },
      "source": [
        "from sklearn.metrics import precision_score\n",
        "Precision = precision_score(y_actual_labels, y_pred_labels, average=None)\n",
        "print(Precision)"
      ],
      "execution_count": 61,
      "outputs": [
        {
          "output_type": "stream",
          "text": [
            "[0.27272727 0.41217799 0.66666667]\n"
          ],
          "name": "stdout"
        }
      ]
    }
  ]
}
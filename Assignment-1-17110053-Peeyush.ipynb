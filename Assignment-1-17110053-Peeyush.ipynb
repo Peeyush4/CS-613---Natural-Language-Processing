{
 "cells": [
  {
   "cell_type": "markdown",
   "metadata": {},
   "source": [
    "# Initialization"
   ]
  },
  {
   "cell_type": "code",
   "execution_count": 4,
   "metadata": {
    "collapsed": true
   },
   "outputs": [],
   "source": [
    "import pandas as pd\n",
    "#Reference: https://colab.research.google.com/notebooks/mlcc/intro_to_pandas.ipynb\n",
    "import re\n",
    "#References: https://www.regular-expressions.info/ and https://www.w3schools.com/python/python_regex.asp\n",
    "import matplotlib.pyplot as plt\n",
    "#Reference: https://matplotlib.org/\n",
    "import random\n",
    "#Reference: https://www.pythonforbeginners.com/random/how-to-use-the-random-module-in-python "
   ]
  },
  {
   "cell_type": "code",
   "execution_count": 2,
   "metadata": {
    "collapsed": true
   },
   "outputs": [],
   "source": [
    "import nltk\n",
    "from nltk.tokenize import TweetTokenizer\n",
    "tweet = TweetTokenizer()\n",
    "#Reference: https://www.nltk.org/api/nltk.tokenize.html"
   ]
  },
  {
   "cell_type": "markdown",
   "metadata": {},
   "source": [
    "# Token, Types and TTR "
   ]
  },
  {
   "cell_type": "code",
   "execution_count": 85,
   "metadata": {},
   "outputs": [
    {
     "name": "stdout",
     "output_type": "stream",
     "text": [
      "Token Length: 364068\n",
      "Type length: 38971\n",
      "Token to Type ratio: 0.107043189733786\n"
     ]
    }
   ],
   "source": [
    "a = pd.read_csv(r\"C:\\Users\\family\\Desktop\\tweets-dataset.csv\")\n",
    "\n",
    "#Find tokens\n",
    "\n",
    "#alpha = \" \".join(list(a['Sentence']))                    //Convert all information into a single string \n",
    "#alpha = alpha.lower()                                    //Lowercasing the strings\n",
    "#alpha = re.sub('(https://[^\\s]+|pic[^\\s]+)', '', alpha)              //Remove all the urls using regex\n",
    "#tokens = tweet.tokenize(alpha)                           //Applying tweet tokenization\n",
    "\n",
    "#Here is the combination of the above 4 codes represnted as one\n",
    "tokens = tweet.tokenize(re.sub('(https?://[^\\s]+|pic[^\\s]+)', '', \" \".join(list(a['Sentence']))).lower()) \n",
    "#Reference: https://www.nltk.org/api/nltk.tokenize.html\n",
    "#Regex References: https://www.regular-expressions.info/ and https://www.w3schools.com/python/python_regex.asp\n",
    "\n",
    "#Find the length of the token\n",
    "token_length = len(tokens)\n",
    "print(\"Token Length: \" + str(token_length))\n",
    "\n",
    "\n",
    "#Finding the length of types\n",
    "types_length = len(set(tokens))\n",
    "print(\"Type length: \" + str(types_length))\n",
    "\n",
    "\n",
    "#Finding TTR\n",
    "TTR = types_length / token_length\n",
    "print(\"Token to Type ratio: \" + str(TTR))"
   ]
  },
  {
   "cell_type": "markdown",
   "metadata": {},
   "source": [
    "# Zipf's Law for length"
   ]
  },
  {
   "cell_type": "code",
   "execution_count": 11,
   "metadata": {},
   "outputs": [
    {
     "data": {
      "image/png": "[encoded data removed]",
      "text/plain": [
       "<matplotlib.figure.Figure at 0x2870d12c5c0>"
      ]
     },
     "metadata": {},
     "output_type": "display_data"
    }
   ],
   "source": [
    "#Computing number of strings that have same length for all lengths\n",
    "d = {}\n",
    "for i in tokens:\n",
    "    if len(i) not in d: d[len(i)] = 1\n",
    "    else: d[len(i)] += 1\n",
    "\n",
    "#Sort the frequencies according to the decreasing order i.e finding the frequency\n",
    "e = [d[i] for i in d]\n",
    "e.sort(reverse = True)\n",
    "\n",
    "#Plot it in a graph\n",
    "plt.xlabel(\"No. of Words having a constant Length\")\n",
    "plt.ylabel(\"Frequency of the Length\")\n",
    "plt.plot(e, [i for i in range(1, len(e) + 1)])\n",
    "plt.show()\n",
    "#Reference: https://matplotlib.org/ and https://classroom.google.com/u/0/c/NDEzNDY5MjY2NTFa"
   ]
  },
  {
   "cell_type": "markdown",
   "metadata": {},
   "source": [
    "# Zipf's law for meaning"
   ]
  },
  {
   "cell_type": "code",
   "execution_count": 83,
   "metadata": {},
   "outputs": [],
   "source": [
    "#Find enlish words that are present in the document\n",
    "from nltk.corpus import wordnet\n",
    "w = []\n",
    "while(len(w) < 20):\n",
    "    a = tokens[random.randint(0, len(tokens) - 1)]\n",
    "    if wordnet.synsets(a): w.append(a)\n",
    "#Reference: https://stackoverflow.com/questions/3788870/how-to-check-if-a-word-is-an-english-word-with-python"
   ]
  },
  {
   "cell_type": "code",
   "execution_count": 79,
   "metadata": {},
   "outputs": [],
   "source": [
    "#To get synonyms for a word in a list\n",
    "like = []\n",
    "for syn in wordnet.synsets(\"same\"):\n",
    "    for l in syn.lemmas():\n",
    "        like.append(l.name())\n",
    "#Reference: https://www.guru99.com/wordnet-nltk.html"
   ]
  },
  {
   "cell_type": "code",
   "execution_count": 59,
   "metadata": {},
   "outputs": [],
   "source": [
    "thesaurus = [\n",
    "    ['like', 'alike', 'comparable', 'related', 'admire', 'appreciate', 'love', 'please', 'prefer', 'want'], \n",
    "    ['politics', 'government', 'campaigning'], \n",
    "    ['rock', 'shake', 'sway', 'rocked', 'convulse', 'jolt', 'swing'], \n",
    "    ['will', 'attitude', 'decision', 'desire', 'determination', 'discipline', 'feeling', 'inclination', 'intention', 'mind', 'passion', 'power', 'resolution', 'resolve', 'wish'], \n",
    "    ['slow', 'slowly', 'easy', 'tedious', 'time-consuming', 'deadening', 'dense', 'behind', 'ho-hum', 'retard', 'dim', 'dull', 'tardily', 'irksome', 'obtuse', 'decelerate', 'slow_up', 'slacken', 'slack', 'sluggish', 'tiresome', 'dumb', 'slow_down', 'boring', 'wearisome', 'low', 'moderate', 'tame', 'lethargy', 'heavy', 'gradual'],\n",
    "    ['festival', 'holiday', 'fair', 'feast', 'gala', 'anniversary', 'commemoration'],\n",
    "    ['sorry', 'sad', 'no-count', 'blue', 'grim', 'gloomy', 'deplorable', 'dismal', 'no-good', 'dark', 'bad', 'disconsolate', 'dreary', 'pitiful', 'regretful', 'no-account', 'good-for-naught', 'dingy', 'drear', 'good-for-nothing', 'meritless', 'distressing', 'drab', 'lamentable'],\n",
    "    ['critic', 'authority', 'reviewer', 'commentator', 'judge', 'pandit', 'cartoonist'],\n",
    "    ['look', 'attention', 'eye', 'glance', 'peek', 'view', 'stare', 'review', 'glimpse', 'feeling', 'feel', 'depend', 'calculate', 'facial_expression', 'await', 'front', 'see', 'expect', 'flavor', 'looking', 'take_care', 'bet', 'looking_at', 'flavour', 'face', 'spirit', 'appear', 'seem', 'smell', 'expression', 'attend', 'reckon', 'wait', 'count', 'tone', 'search', 'aspect'],\n",
    "    ['ask', 'demand', 'inquire', 'quiz', 'request', 'invite', 'challenge', 'appeal', 'urge', 'beg', 'charge', 'claim', 'order', 'petition', 'request', 'plead', 'seek', 'sue', 'appeal', 'propose', 'suggest', 'summon'],\n",
    "    ['hard', 'intemperately', 'tough', 'concentrated', 'grueling', 'strong', 'severely', 'laborious', 'surd', 'heavily', 'heavy', 'intemperate', 'unvoiced', 'arduous', 'voiceless', 'severe', 'toilsome', 'hard', 'punishing', 'knockout', 'backbreaking', 'firmly', 'operose', 'difficult', 'gruelling'],\n",
    "    ['lead', 'pass', 'top', 'lede', 'trail', 'result', 'leash', 'guide', 'wind', 'conduct', 'leave', 'lead', 'Pb', 'contribute', 'conduce', 'extend', 'track', 'precede', 'go', 'booster_cable', 'moderate', 'pencil_lead', 'tip', 'lead_story', 'jumper_lead', 'leading', 'direct', 'tether', 'take', 'star', 'atomic_number_82', 'head', 'confidential_information', 'spark_advance', 'lead-in', 'jumper_cable', 'chair', 'principal', 'steer', 'hint', 'run'],\n",
    "    ['security', 'protection', 'certificate', 'surety', 'security_measure', 'security_system', 'security_department', 'security_measures'],\n",
    "    ['whole', 'totally', 'wholly', 'unit', 'unharmed', 'whole', 'entirely', 'all', 'unscathed', 'altogether', 'completely', 'unhurt', 'hale', 'solid', 'unanimous'],\n",
    "    ['right', 'powerful', 'mighty', 'right_field', 'justly', 'right_on', 'right-hand', 'rectify', 'flop', 'rightfulness', 'decent', 'aright', 'correct', 'proper', 'compensate', 'right_wing', 'right_hand', 'redress', 'rightfield', 'in_good_order', 'mightily', 'the_right_way', 'properly', 'veracious', 'correctly', 'ripe', 'decently', 'good'],\n",
    "    ['watch', 'keep_an_eye_on', 'scout', 'learn', 'look_on', 'lookout_man', 'take_in', 'vigil', 'picket', 'check', 'observe', 'find_out', 'see', 'spotter', 'watch_out', 'determine', 'sentry', 'follow', 'view', 'look_out', 'lookout', 'catch', 'watch_over', 'ascertain', 'ticker', 'sentinel'],\n",
    "    ['god', 'immortal', 'graven_image', 'deity', 'divinity', 'God', 'Supreme_Being', 'idol'],\n",
    "    ['regrets', 'ruefulness', 'regret', 'repent', 'rue', 'sorrow'],\n",
    "    ['old', 'onetime', 'older', 'one-time', 'quondam', 'sure-enough', 'honest-to-god', 'former', 'Old', 'sometime', 'previous', 'honest-to-goodness', 'erstwhile'],\n",
    "    ['same', 'Lapp', 'like', 'Same', 'Sami', 'Saami', 'Lapplander', 'Saame']\n",
    "]\n",
    "#This is thesaurus of twenty words\n",
    "#First 10 are like, politics, rock, will, slow, festival, sorry, critic, look, ask\n",
    "#Second 10 are hard, lead, security, whole, right, watch, god, regrets, old, same.\n",
    "#References: https://www.guru99.com/wordnet-nltk.html and https://www.thesaurus.com/"
   ]
  },
  {
   "cell_type": "code",
   "execution_count": 86,
   "metadata": {},
   "outputs": [
    {
     "data": {
      "image/png": "[encoded data removed]",
      "text/plain": [
       "<matplotlib.figure.Figure at 0x2027c700898>"
      ]
     },
     "metadata": {},
     "output_type": "display_data"
    }
   ],
   "source": [
    "#Aim: to plot frequency of words that have similar meanings vs frequency of frequency\n",
    "\n",
    "#Finding number of words that have similar meanings with the thesaurus above\n",
    "d = {}\n",
    "for i in tokens:\n",
    "    if wordnet.synsets(i):\n",
    "        for j in range(len(thesaurus)):\n",
    "            if i in thesaurus[j]:\n",
    "                if j not in d: d[j] = 1\n",
    "                else: d[j] += 1\n",
    "\n",
    "#Sorting according to the decreasing order i.e finding the frequency\n",
    "e = sorted(list(d.values()), reverse = True)\n",
    "\n",
    "#Plotting it in a graph\n",
    "plt.plot(e, [i for i in range(1, len(e) + 1)], 'b-')\n",
    "plt.xlabel(\"Frequency of the meanings\")\n",
    "plt.ylabel(\"Frequency of frequency\")\n",
    "plt.show()\n",
    "#References: https://matplotlib.org/ and https://classroom.google.com/u/0/c/NDEzNDY5MjY2NTFa"
   ]
  },
  {
   "cell_type": "markdown",
   "metadata": {},
   "source": [
    "# Heap's law"
   ]
  },
  {
   "cell_type": "code",
   "execution_count": 96,
   "metadata": {},
   "outputs": [
    {
     "data": {
      "image/png": "[encoded data removed]",
      "text/plain": [
       "<matplotlib.figure.Figure at 0x2d00bbe8ac8>"
      ]
     },
     "metadata": {},
     "output_type": "display_data"
    }
   ],
   "source": [
    "#finding number of words that have a constant length\n",
    "Vocabulary = []\n",
    "VL = [0]\n",
    "for i in range(len(tokens)):\n",
    "    if tokens[i] not in Vocabulary: \n",
    "        Vocabulary.append(tokens[i])\n",
    "        VL.append(VL[-1] + 1)\n",
    "    else: VL.append(VL[-1])\n",
    "\n",
    "#plotting it in a graph       \n",
    "plt.xlabel(\"Corpus\")\n",
    "plt.ylabel(\"Vocabulary\")\n",
    "plt.plot([i for i in range(1, len(tokens) + 1)], VL[1:])\n",
    "plt.show()\n",
    "#References: https://matplotlib.org/ and https://classroom.google.com/u/0/c/NDEzNDY5MjY2NTFa"
   ]
  }
 ],
 "metadata": {
  "kernelspec": {
   "display_name": "Python 3",
   "language": "python",
   "name": "python3"
  },
  "language_info": {
   "codemirror_mode": {
    "name": "ipython",
    "version": 3
   },
   "file_extension": ".py",
   "mimetype": "text/x-python",
   "name": "python",
   "nbconvert_exporter": "python",
   "pygments_lexer": "ipython3",
   "version": "3.6.3"
  }
 },
 "nbformat": 4,
 "nbformat_minor": 2
}

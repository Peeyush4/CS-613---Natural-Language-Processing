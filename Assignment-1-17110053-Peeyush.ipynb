{
 "cells": [
  {
   "cell_type": "markdown",
   "metadata": {},
   "source": [
    "# Initialization"
   ]
  },
  {
   "cell_type": "code",
   "execution_count": 31,
   "metadata": {
    "collapsed": true
   },
   "outputs": [],
   "source": [
    "import pandas as pd\n",
    "#Reference: https://colab.research.google.com/notebooks/mlcc/intro_to_pandas.ipynb\n",
    "import re\n",
    "#References: https://www.regular-expressions.info/ and https://www.w3schools.com/python/python_regex.asp\n",
    "import matplotlib.pyplot as plt\n",
    "#Reference: https://matplotlib.org/\n",
    "import random\n",
    "#Reference: https://www.pythonforbeginners.com/random/how-to-use-the-random-module-in-python "
   ]
  },
  {
   "cell_type": "code",
   "execution_count": 32,
   "metadata": {
    "collapsed": true
   },
   "outputs": [],
   "source": [
    "import nltk\n",
    "from nltk.tokenize import TweetTokenizer\n",
    "tweet = TweetTokenizer()\n",
    "#Reference: https://www.nltk.org/api/nltk.tokenize.html"
   ]
  },
  {
   "cell_type": "markdown",
   "metadata": {},
   "source": [
    "# Token, Types and TTR "
   ]
  },
  {
   "cell_type": "code",
   "execution_count": 33,
   "metadata": {},
   "outputs": [
    {
     "name": "stdout",
     "output_type": "stream",
     "text": [
      "Token Length: 364068\n",
      "Type length: 38971\n",
      "Token to Type ratio: 0.107043189733786\n"
     ]
    }
   ],
   "source": [
    "a = pd.read_csv(r\"C:\\Users\\family\\Desktop\\tweets-dataset.csv\")\n",
    "\n",
    "#Find tokens\n",
    "\n",
    "#alpha = \" \".join(list(a['Sentence']))                    //Convert all information into a single string \n",
    "#alpha = alpha.lower()                                    //Lowercasing the strings\n",
    "#alpha = re.sub('(https://[^\\s]+|pic[^\\s]+)', '', alpha)              //Remove all the urls using regex\n",
    "#tokens = tweet.tokenize(alpha)                           //Applying tweet tokenization\n",
    "\n",
    "#Here is the combination of the above 4 codes represnted as one\n",
    "tokens = tweet.tokenize(re.sub('(https?://[^\\s]+|pic[^\\s]+)', '', \" \".join(list(a['Sentence']))).lower()) \n",
    "#Reference: https://www.nltk.org/api/nltk.tokenize.html\n",
    "#Regex References: https://www.regular-expressions.info/ and https://www.w3schools.com/python/python_regex.asp\n",
    "\n",
    "#Find the length of the token\n",
    "token_length = len(tokens)\n",
    "print(\"Token Length: \" + str(token_length))\n",
    "\n",
    "\n",
    "#Finding the length of types\n",
    "types_length = len(set(tokens))\n",
    "print(\"Type length: \" + str(types_length))\n",
    "\n",
    "\n",
    "#Finding TTR\n",
    "TTR = types_length / token_length\n",
    "print(\"Token to Type ratio: \" + str(TTR))"
   ]
  },
  {
   "cell_type": "markdown",
   "metadata": {},
   "source": [
    "# Zipf's Law for length"
   ]
  },
  {
   "cell_type": "code",
   "execution_count": 34,
   "metadata": {},
   "outputs": [
    {
     "data": {
      "image/png": "[encoded data removed]",
      "text/plain": [
       "<matplotlib.figure.Figure at 0x1c61b2528d0>"
      ]
     },
     "metadata": {},
     "output_type": "display_data"
    }
   ],
   "source": [
    "#Computing number of strings that have same length for all lengths\n",
    "d = {}\n",
    "for i in tokens:\n",
    "    if len(i) not in d: d[len(i)] = 1\n",
    "    else: d[len(i)] += 1\n",
    "\n",
    "#Sort the frequencies according to the decreasing order i.e finding the frequency\n",
    "e = [d[i] for i in d]\n",
    "e.sort(reverse = True)\n",
    "\n",
    "#Plot it in a graph\n",
    "plt.xlabel(\"No. of Words having a constant Length\")\n",
    "plt.ylabel(\"Frequency of the Length\")\n",
    "plt.plot(e, [i for i in range(1, len(e) + 1)])\n",
    "plt.show()\n",
    "#Reference: https://matplotlib.org/ and https://classroom.google.com/u/0/c/NDEzNDY5MjY2NTFa"
   ]
  },
  {
   "cell_type": "markdown",
   "metadata": {},
   "source": [
    "# Zipf's law for meaning"
   ]
  },
  {
   "cell_type": "code",
   "execution_count": 178,
   "metadata": {
    "collapsed": true
   },
   "outputs": [],
   "source": [
    "thesaurus = [\n",
    "    ['like', 'alike', 'comparable', 'related', 'admire', 'appreciate', 'love', 'please', 'prefer', 'want', 'go for', 'adore', 'feel like', 'please', 'prefer', 'want', 'desire', 'cherish', 'agnate', 'allied', 'ally', 'allying', 'matching', 'near', 'relating', 'resembling', 'twin', 'uniform', 'corresponding', 'double', 'will'], \n",
    "    ['love', 'passion', 'beloved', 'dear', 'dearest', 'honey', 'enjoy', 'affection', 'emotion', 'devotion', 'fondness', 'respect', 'friendship', 'infatuation', 'yearning', 'know', 'do_it', 'be_intimate', 'romeo', 'dearest', 'angel', 'care for', 'worship', 'cherish', 'embrace', 'feel'],\n",
    "    ['will', 'attitude', 'decision', 'desire', 'determination', 'discipline', 'bequest', 'confer', 'disinherit','feeling', 'inclination', 'intention', 'mind', 'passion', 'power', 'resolution', 'resolve', 'wish', 'opt', 'please', 'leave', 'confer', 'devise', 'crave', 'opt', 'probate', 'transfer', 'disinherit', 'bequest'], \n",
    "    ['sorry', 'dismal', 'no-good', 'disconsolate', 'pitiful', 'regretful', 'good-for-nothing', 'apology', 'unhappy', 'sorrowful'],\n",
    "    ['lead', 'guide', 'precede', 'moderate', 'tip', 'chair', 'principal'],\n",
    "    ['right', 'legal', 'honest', 'legitimate', 'proper', 'suitable', 'true', 'accurate', 'precise', 'perfect', 'right-hand', 'rightfulness', 'correct', 'proper', 'the_right_way', 'good', ],\n",
    "    ['watch', 'keep_an_eye_on', 'scout', 'learn', 'vigil', 'check', 'observe', 'find_out', 'see', 'follow', 'view', 'lookout', 'catch', 'ascertain', 'ticker', 'sentinel'],\n",
    "    ['god', 'immortal', 'graven_image', 'deity', 'divinity', 'God', 'Supreme_Being', 'idol', 'Allah', 'lord', 'master', 'holiness', 'almighty', 'creator'],\n",
    "    ['old', 'onetime', 'older', 'one-time', 'quondam', 'sure-enough', 'honest-to-god', 'former', 'Old', 'sometime', 'previous', 'honest-to-goodness', 'erstwhile'],\n",
    "    ['same', 'carbon', 'xerox', 'clone', 'ditto', 'double', 'dupe', 'duplicate', 'equal', 'equivalent', 'like', 'look-alike', 'twin', 'constant', 'invariable', 'uniform']\n",
    "]\n",
    "#This is thesaurus of ten words\n",
    "#They are like, love, will, slow, sorry, right, watch, god, old, same.\n",
    "#References: https://www.guru99.com/wordnet-nltk.html and https://www.thesaurus.com/"
   ]
  },
  {
   "cell_type": "code",
   "execution_count": 186,
   "metadata": {},
   "outputs": [
    {
     "data": {
      "image/png": "[encoded data removed]",
      "text/plain": [
       "<matplotlib.figure.Figure at 0x1c61d5cbf28>"
      ]
     },
     "metadata": {},
     "output_type": "display_data"
    }
   ],
   "source": [
    "#Getting the frequency of the words in thesaurus\n",
    "m = {}\n",
    "n = []\n",
    "for j in range(len(thesaurus)):\n",
    "    m[thesaurus[j][0]] = [0, len(thesaurus[j])]\n",
    "    n.append(thesaurus[j][0])\n",
    "for i in tokens:\n",
    "    if i in n:\n",
    "        m[i][0] += 1\n",
    "\n",
    "#Plotting in a graph\n",
    "plt.plot(sorted([m[i][0] for i in m]), sorted([m[i][1] for i in m]))\n",
    "plt.xlabel(\"Number of occurences of Words\")\n",
    "plt.ylabel(\"Number of Menings\")\n",
    "plt.show()\n",
    "#References: https://www.guru99.com/wordnet-nltk.html and https://matplotlib.org/"
   ]
  },
  {
   "cell_type": "code",
   "execution_count": 188,
   "metadata": {},
   "outputs": [],
   "source": [
    "#Another way\n",
    "def getSynonyms(data1):\n",
    "    synonymList1 = []\n",
    "    wordnetSynset1 = wordnet.synsets(data1)\n",
    "\n",
    "    for synset1 in wordnetSynset1:\n",
    "        for synWords1 in synset1.lemma_names():\n",
    "            synonymList1.append(synWords1)\n",
    "    return synonymList1\n",
    "\n",
    "meanings = {}\n",
    "for i in range(len(tokens)):\n",
    "    a = tokens[i]\n",
    "    if wordnet.synsets(a):\n",
    "        b = len(getSynonyms(a))\n",
    "        if a not in meanings: meanings[a] = [1, b]\n",
    "        else: meanings[a][0] += 1\n",
    "\n",
    "\n",
    "plt.scatter([meanings[word][1] for word in meanings], [meanings[word][0] for word in meanings])\n",
    "plt.show()\n",
    "\n",
    "#References: https://stackoverflow.com/questions/45035207/how-to-find-a-synonyms-in-a-list-of-strings-using-nltk-synsets and https://matplotlib.org/"
   ]
  },
  {
   "cell_type": "markdown",
   "metadata": {},
   "source": [
    "# Heap's law"
   ]
  },
  {
   "cell_type": "code",
   "execution_count": 96,
   "metadata": {},
   "outputs": [
    {
     "data": {
      "image/png": "[encoded data removed]",
      "text/plain": [
       "<matplotlib.figure.Figure at 0x2d00bbe8ac8>"
      ]
     },
     "metadata": {},
     "output_type": "display_data"
    }
   ],
   "source": [
    "#finding number of words that have a constant length\n",
    "Vocabulary = []\n",
    "VL = [0]\n",
    "for i in range(len(tokens)):\n",
    "    if tokens[i] not in Vocabulary: \n",
    "        Vocabulary.append(tokens[i])\n",
    "        VL.append(VL[-1] + 1)\n",
    "    else: VL.append(VL[-1])\n",
    "\n",
    "#plotting it in a graph       \n",
    "plt.xlabel(\"Corpus\")\n",
    "plt.ylabel(\"Vocabulary\")\n",
    "plt.plot([i for i in range(1, len(tokens) + 1)], VL[1:])\n",
    "plt.show()\n",
    "#References: https://matplotlib.org/ and https://classroom.google.com/u/0/c/NDEzNDY5MjY2NTFa"
   ]
  }
 ],
 "metadata": {
  "kernelspec": {
   "display_name": "Python 3",
   "language": "python",
   "name": "python3"
  },
  "language_info": {
   "codemirror_mode": {
    "name": "ipython",
    "version": 3
   },
   "file_extension": ".py",
   "mimetype": "text/x-python",
   "name": "python",
   "nbconvert_exporter": "python",
   "pygments_lexer": "ipython3",
   "version": "3.6.3"
  }
 },
 "nbformat": 4,
 "nbformat_minor": 2
}
